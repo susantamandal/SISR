{
  "nbformat": 4,
  "nbformat_minor": 0,
  "metadata": {
    "colab": {
      "name": "command_page.ipynb",
      "provenance": [],
      "collapsed_sections": [],
      "mount_file_id": "1i5wqdB0bYYQL9WC0VcCXPVpV5ZE_-MPs",
      "authorship_tag": "ABX9TyM8Y/j4jZITAccOtDzThAIc",
      "include_colab_link": true
    },
    "kernelspec": {
      "name": "python3",
      "display_name": "Python 3"
    },
    "accelerator": "GPU"
  },
  "cells": [
    {
      "cell_type": "markdown",
      "metadata": {
        "id": "view-in-github",
        "colab_type": "text"
      },
      "source": [
        "<a href=\"https://colab.research.google.com/github/susantamandal/SISR/blob/master/command_page.ipynb\" target=\"_parent\"><img src=\"https://colab.research.google.com/assets/colab-badge.svg\" alt=\"Open In Colab\"/></a>"
      ]
    },
    {
      "cell_type": "markdown",
      "metadata": {
        "id": "XjgreNhyOUSx",
        "colab_type": "text"
      },
      "source": [
        "# **Upload the project on Google drive and Mount it**"
      ]
    },
    {
      "cell_type": "code",
      "metadata": {
        "id": "QB-e3GXi8j0r",
        "colab_type": "code",
        "colab": {
          "base_uri": "https://localhost:8080/",
          "height": 54
        },
        "outputId": "08867d19-3a4a-4721-db1c-b564328bf4c9"
      },
      "source": [
        "from google.colab import drive\n",
        "drive.mount('/content/drive')"
      ],
      "execution_count": null,
      "outputs": [
        {
          "output_type": "stream",
          "text": [
            "Drive already mounted at /content/drive; to attempt to forcibly remount, call drive.mount(\"/content/drive\", force_remount=True).\n"
          ],
          "name": "stdout"
        }
      ]
    },
    {
      "cell_type": "markdown",
      "metadata": {
        "id": "2O2JuqYvNlln",
        "colab_type": "text"
      },
      "source": [
        "# **Install Required tools**"
      ]
    },
    {
      "cell_type": "code",
      "metadata": {
        "id": "44DJLt0c81vj",
        "colab_type": "code",
        "colab": {}
      },
      "source": [
        "!pip install tensorflow-gpu\n",
        "!pip install tensorlayer"
      ],
      "execution_count": null,
      "outputs": []
    },
    {
      "cell_type": "markdown",
      "metadata": {
        "id": "P-NdFetqNyTM",
        "colab_type": "text"
      },
      "source": [
        "# **Navigate to working directory**"
      ]
    },
    {
      "cell_type": "code",
      "metadata": {
        "id": "vjzXHO9Jy3xl",
        "colab_type": "code",
        "colab": {
          "base_uri": "https://localhost:8080/"
        },
        "outputId": "509d5643-5146-45e3-ef22-c3bafec3571e"
      },
      "source": [
        "%cd /content/drive/My Drive/Project_Testing"
      ],
      "execution_count": null,
      "outputs": [
        {
          "output_type": "stream",
          "text": [
            "/content/drive/My Drive/Project_Testing\n"
          ],
          "name": "stdout"
        }
      ]
    },
    {
      "cell_type": "markdown",
      "metadata": {
        "id": "R9Tt40PhHJRn",
        "colab_type": "text"
      },
      "source": [
        "# **Fresh Training : MFFGAN**"
      ]
    },
    {
      "cell_type": "code",
      "metadata": {
        "id": "XP2eFJppA6d4",
        "colab_type": "code",
        "colab": {}
      },
      "source": [
        "!python main.py --mode=1 --gen_model=1 --dis_model=1 --init_epoch=50 --total_epoch=100 --batch_size=8 --save_interval=5 --dir_train_in='<Training_folder_path>'"
      ],
      "execution_count": null,
      "outputs": []
    },
    {
      "cell_type": "markdown",
      "metadata": {
        "id": "yV0LL_iuFk2c",
        "colab_type": "text"
      },
      "source": [
        "# **Resume Training: MFFGAN (Initial+Adverserial)**"
      ]
    },
    {
      "cell_type": "code",
      "metadata": {
        "id": "CQmzkWN6FZtC",
        "colab_type": "code",
        "colab": {}
      },
      "source": [
        "!python main.py --mode=1 --load_weights --gan_init --gen_model=1 --dis_model=1 --model_epoch=50 --init_epoch=0 --total_epoch=100 --batch_size=8 --save_interval=5 --dir_train_in='<Training_folder_path>'"
      ],
      "execution_count": null,
      "outputs": []
    },
    {
      "cell_type": "markdown",
      "metadata": {
        "id": "CUmBUFxx8wjm",
        "colab_type": "text"
      },
      "source": [
        "# **Resume Training: MFFGAN (Adverserial)**"
      ]
    },
    {
      "cell_type": "code",
      "metadata": {
        "id": "PMTdZSZV85co",
        "colab_type": "code",
        "colab": {}
      },
      "source": [
        "!python main.py --mode=1 --load_weights --gen_model=1 --dis_model=1 --model_epoch=100 --total_epoch=10 --batch_size=8 --save_interval=5 --dir_train_in='<Training_folder_path>'"
      ],
      "execution_count": null,
      "outputs": []
    },
    {
      "cell_type": "markdown",
      "metadata": {
        "id": "v0MIfBVk-WcD",
        "colab_type": "text"
      },
      "source": [
        "# **Validation: MFFGAN**"
      ]
    },
    {
      "cell_type": "code",
      "metadata": {
        "id": "x58qYtMT-Wo1",
        "colab_type": "code",
        "colab": {}
      },
      "source": [
        "!python main.py --mode=2 --gan_train --gen_model=1 --model_epoch=100 --batch_size=8 --dir_val_in='<Validation_folder_path>'"
      ],
      "execution_count": null,
      "outputs": []
    },
    {
      "cell_type": "markdown",
      "metadata": {
        "id": "UuVCM0-YddAq",
        "colab_type": "text"
      },
      "source": [
        "# **.........................................................UTILITIES.............................................................**"
      ]
    },
    {
      "cell_type": "markdown",
      "metadata": {
        "id": "lJGHWjomJET7",
        "colab_type": "text"
      },
      "source": [
        "# **Remove all files from a folder**"
      ]
    },
    {
      "cell_type": "code",
      "metadata": {
        "id": "y4YSnUTDJpl-",
        "colab_type": "code",
        "colab": {}
      },
      "source": [
        "!python utils.py refresh_folder '<folder_path>'"
      ],
      "execution_count": null,
      "outputs": []
    },
    {
      "cell_type": "markdown",
      "metadata": {
        "id": "YSUB4gQxKAhI",
        "colab_type": "text"
      },
      "source": [
        "# **Remove a file**"
      ]
    },
    {
      "cell_type": "code",
      "metadata": {
        "id": "61X7EOr0KEai",
        "colab_type": "code",
        "colab": {}
      },
      "source": [
        "!python utils.py remove_file '<file_path>'"
      ],
      "execution_count": null,
      "outputs": []
    },
    {
      "cell_type": "markdown",
      "metadata": {
        "id": "7dqI-YuAKPRi",
        "colab_type": "text"
      },
      "source": [
        "# **Copy Files from one folder to another with start and end index numbers**"
      ]
    },
    {
      "cell_type": "code",
      "metadata": {
        "id": "AeloysWlKe9k",
        "colab_type": "code",
        "colab": {}
      },
      "source": [
        "!python utils.py copy_images '<Source>'\\ '<Destination>'\\ <start_index>\\ <end_index>"
      ],
      "execution_count": null,
      "outputs": []
    },
    {
      "cell_type": "markdown",
      "metadata": {
        "id": "rR_e6gSaZgpI",
        "colab_type": "text"
      },
      "source": [
        "# **New Model Check**"
      ]
    },
    {
      "cell_type": "code",
      "metadata": {
        "id": "JHdD3NzqKlWv",
        "colab_type": "code",
        "colab": {}
      },
      "source": [
        "!python model_list.py G 1"
      ],
      "execution_count": null,
      "outputs": []
    }
  ]
}