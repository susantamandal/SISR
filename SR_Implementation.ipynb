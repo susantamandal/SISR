{
  "nbformat": 4,
  "nbformat_minor": 0,
  "metadata": {
    "colab": {
      "name": "SR_Implementation.ipynb",
      "provenance": [],
      "collapsed_sections": [],
      "mount_file_id": "1i5wqdB0bYYQL9WC0VcCXPVpV5ZE_-MPs",
      "authorship_tag": "ABX9TyPzT7y28lR82rXtPTpPKtA7"
    },
    "kernelspec": {
      "name": "python3",
      "display_name": "Python 3"
    },
    "accelerator": "GPU"
  },
  "cells": [
    {
      "cell_type": "code",
      "metadata": {
        "id": "QB-e3GXi8j0r",
        "colab_type": "code",
        "colab": {
          "base_uri": "https://localhost:8080/",
          "height": 54
        },
        "outputId": "08867d19-3a4a-4721-db1c-b564328bf4c9"
      },
      "source": [
        "from google.colab import drive\n",
        "drive.mount('/content/drive')"
      ],
      "execution_count": null,
      "outputs": [
        {
          "output_type": "stream",
          "text": [
            "Drive already mounted at /content/drive; to attempt to forcibly remount, call drive.mount(\"/content/drive\", force_remount=True).\n"
          ],
          "name": "stdout"
        }
      ]
    },
    {
      "cell_type": "code",
      "metadata": {
        "id": "44DJLt0c81vj",
        "colab_type": "code",
        "colab": {}
      },
      "source": [
        "!pip install tensorflow-gpu\n",
        "!pip install tensorlayer"
      ],
      "execution_count": null,
      "outputs": []
    },
    {
      "cell_type": "code",
      "metadata": {
        "id": "vjzXHO9Jy3xl",
        "colab_type": "code",
        "colab": {
          "base_uri": "https://localhost:8080/"
        },
        "outputId": "509d5643-5146-45e3-ef22-c3bafec3571e"
      },
      "source": [
        "%cd /content/drive/My Drive/Project_Testing"
      ],
      "execution_count": null,
      "outputs": [
        {
          "output_type": "stream",
          "text": [
            "/content/drive/My Drive/Project_Testing\n"
          ],
          "name": "stdout"
        }
      ]
    },
    {
      "cell_type": "markdown",
      "metadata": {
        "id": "hpzDbUTOQ5oV",
        "colab_type": "text"
      },
      "source": [
        ""
      ]
    },
    {
      "cell_type": "code",
      "metadata": {
        "id": "vY2DM6FVllLf",
        "colab_type": "code",
        "colab": {}
      },
      "source": [
        "!pwd"
      ],
      "execution_count": null,
      "outputs": []
    },
    {
      "cell_type": "markdown",
      "metadata": {
        "id": "R9Tt40PhHJRn",
        "colab_type": "text"
      },
      "source": [
        "# **Fresh Training : MIFFGAN**"
      ]
    },
    {
      "cell_type": "code",
      "metadata": {
        "id": "XP2eFJppA6d4",
        "colab_type": "code",
        "colab": {}
      },
      "source": [
        "!python main.py --mode=1 --gan_train --gen_model=6 --dis_model=2 --init_epoch=50 --total_epoch=100 --batch_size=10 --save_interval=5"
      ],
      "execution_count": null,
      "outputs": []
    },
    {
      "cell_type": "markdown",
      "metadata": {
        "id": "yV0LL_iuFk2c",
        "colab_type": "text"
      },
      "source": [
        "# **Resume Training: MIFFGAN (Initial+Adverserial)**"
      ]
    },
    {
      "cell_type": "code",
      "metadata": {
        "id": "CQmzkWN6FZtC",
        "colab_type": "code",
        "colab": {}
      },
      "source": [
        "!python main.py --mode=1 --gan_train --load_weights --gan_init --gen_model=6 --dis_model=2 --model_epoch=50 --init_epoch=0 --total_epoch=100 --batch_size=8 --save_interval=1"
      ],
      "execution_count": null,
      "outputs": []
    },
    {
      "cell_type": "markdown",
      "metadata": {
        "id": "CUmBUFxx8wjm",
        "colab_type": "text"
      },
      "source": [
        "# **Resume Training: MIFFGAN (Adverserial)**"
      ]
    },
    {
      "cell_type": "code",
      "metadata": {
        "id": "PMTdZSZV85co",
        "colab_type": "code",
        "colab": {
          "base_uri": "https://localhost:8080/"
        },
        "outputId": "a0838c0d-84d0-4a1d-cadb-c7ac63941bdf"
      },
      "source": [
        "!python main.py --mode=1 --load_weights --gan_train --gen_model=6 --dis_model=2 --model_epoch=107 --total_epoch=2 --batch_size=8 --save_interval=1 --dir_train_in='Training'"
      ],
      "execution_count": null,
      "outputs": [
        {
          "output_type": "stream",
          "text": [
            "2020-02-23 18:55:17.057761: W tensorflow/stream_executor/platform/default/dso_loader.cc:55] Could not load dynamic library 'libnvinfer.so.6'; dlerror: libnvinfer.so.6: cannot open shared object file: No such file or directory; LD_LIBRARY_PATH: /usr/lib64-nvidia\n",
            "2020-02-23 18:55:17.057875: W tensorflow/stream_executor/platform/default/dso_loader.cc:55] Could not load dynamic library 'libnvinfer_plugin.so.6'; dlerror: libnvinfer_plugin.so.6: cannot open shared object file: No such file or directory; LD_LIBRARY_PATH: /usr/lib64-nvidia\n",
            "2020-02-23 18:55:17.057894: W tensorflow/compiler/tf2tensorrt/utils/py_utils.cc:30] Cannot dlopen some TensorRT libraries. If you would like to use Nvidia GPU with TensorRT, please make sure the missing libraries mentioned above are installed properly.\n",
            "I0223 18:55:18.530813 140076675999616 tl_logging.py:99] Input  _inputlayer_1: (None, 128, 128, 1)\n",
            "2020-02-23 18:55:18.631614: W tensorflow/core/common_runtime/gpu/gpu_bfc_allocator.cc:39] Overriding allow_growth setting because the TF_FORCE_GPU_ALLOW_GROWTH environment variable is set. Original config value was 0.\n",
            "I0223 18:55:19.099647 140076675999616 tl_logging.py:99] Input  _inputlayer_2: (None, 256, 256, 1)\n",
            "I0223 18:55:19.134461 140076675999616 tl_logging.py:99] Conv2d conv2d_1: n_filter: 64 filter_size: (3, 3) strides: (1, 1) pad: SAME act: relu\n",
            "I0223 18:55:20.124847 140076675999616 tl_logging.py:99] BatchNorm batchnorm2d_1: decay: 0.900000 epsilon: 0.000010 act: No Activation is_train: False\n",
            "I0223 18:55:20.160303 140076675999616 tl_logging.py:99] SubpixelConv2d  subpixelconv2d_1: scale: 2 act: relu\n",
            "I0223 18:55:20.184226 140076675999616 tl_logging.py:99] Conv2d conv2d_2: n_filter: 64 filter_size: (3, 3) strides: (1, 1) pad: SAME act: relu\n",
            "I0223 18:55:20.370862 140076675999616 tl_logging.py:99] BatchNorm batchnorm2d_2: decay: 0.900000 epsilon: 0.000010 act: No Activation is_train: False\n",
            "I0223 18:55:20.406426 140076675999616 tl_logging.py:99] Conv2d conv2d_3: n_filter: 64 filter_size: (3, 3) strides: (1, 1) pad: SAME act: relu\n",
            "I0223 18:55:20.464187 140076675999616 tl_logging.py:99] BatchNorm batchnorm2d_3: decay: 0.900000 epsilon: 0.000010 act: No Activation is_train: False\n",
            "I0223 18:55:20.494758 140076675999616 tl_logging.py:99] Concat concat_1: concat_dim: -1\n",
            "I0223 18:55:20.518049 140076675999616 tl_logging.py:99] Conv2d conv2d_4: n_filter: 256 filter_size: (3, 3) strides: (1, 1) pad: SAME act: relu\n",
            "I0223 18:55:20.973105 140076675999616 tl_logging.py:99] BatchNorm batchnorm2d_4: decay: 0.900000 epsilon: 0.000010 act: No Activation is_train: False\n",
            "I0223 18:55:21.012561 140076675999616 tl_logging.py:99] Conv2d conv2d_5: n_filter: 128 filter_size: (3, 3) strides: (1, 1) pad: SAME act: relu\n",
            "I0223 18:55:21.319574 140076675999616 tl_logging.py:99] BatchNorm batchnorm2d_5: decay: 0.900000 epsilon: 0.000010 act: No Activation is_train: False\n",
            "I0223 18:55:21.352497 140076675999616 tl_logging.py:99] Elementwise elementwise_1: fn: add act: No Activation\n",
            "I0223 18:55:21.374614 140076675999616 tl_logging.py:99] Conv2d conv2d_6: n_filter: 1 filter_size: (5, 5) strides: (1, 1) pad: SAME act: relu\n",
            "I0223 18:55:21.543090 140076675999616 tl_logging.py:99] Elementwise elementwise_2: fn: add act: No Activation\n",
            "I0223 18:55:21.566810 140076675999616 tl_logging.py:99] Input  _inputlayer_3: (None, 256, 256, 1)\n",
            "I0223 18:55:21.590329 140076675999616 tl_logging.py:99] Conv2d conv2d_7: n_filter: 64 filter_size: (4, 4) strides: (2, 2) pad: SAME act: <lambda>\n",
            "I0223 18:55:21.626917 140076675999616 tl_logging.py:99] Conv2d conv2d_8: n_filter: 128 filter_size: (4, 4) strides: (2, 2) pad: SAME act: No Activation\n",
            "I0223 18:55:21.669944 140076675999616 tl_logging.py:99] BatchNorm batchnorm2d_6: decay: 0.900000 epsilon: 0.000010 act: <lambda> is_train: False\n",
            "I0223 18:55:21.700086 140076675999616 tl_logging.py:99] Conv2d conv2d_9: n_filter: 256 filter_size: (4, 4) strides: (2, 2) pad: SAME act: No Activation\n",
            "I0223 18:55:21.746616 140076675999616 tl_logging.py:99] BatchNorm batchnorm2d_7: decay: 0.900000 epsilon: 0.000010 act: <lambda> is_train: False\n",
            "I0223 18:55:21.777872 140076675999616 tl_logging.py:99] Conv2d conv2d_10: n_filter: 512 filter_size: (4, 4) strides: (2, 2) pad: SAME act: No Activation\n",
            "I0223 18:55:21.835708 140076675999616 tl_logging.py:99] BatchNorm batchnorm2d_8: decay: 0.900000 epsilon: 0.000010 act: <lambda> is_train: False\n",
            "I0223 18:55:21.871007 140076675999616 tl_logging.py:99] Conv2d conv2d_11: n_filter: 1024 filter_size: (4, 4) strides: (2, 2) pad: SAME act: No Activation\n",
            "I0223 18:55:22.016598 140076675999616 tl_logging.py:99] BatchNorm batchnorm2d_9: decay: 0.900000 epsilon: 0.000010 act: <lambda> is_train: False\n",
            "I0223 18:55:22.054087 140076675999616 tl_logging.py:99] Conv2d conv2d_12: n_filter: 2048 filter_size: (4, 4) strides: (2, 2) pad: SAME act: No Activation\n",
            "I0223 18:55:22.107188 140076675999616 tl_logging.py:99] BatchNorm batchnorm2d_10: decay: 0.900000 epsilon: 0.000010 act: <lambda> is_train: False\n",
            "I0223 18:55:22.141821 140076675999616 tl_logging.py:99] Conv2d conv2d_13: n_filter: 1024 filter_size: (1, 1) strides: (1, 1) pad: SAME act: No Activation\n",
            "I0223 18:55:22.170797 140076675999616 tl_logging.py:99] BatchNorm batchnorm2d_11: decay: 0.900000 epsilon: 0.000010 act: <lambda> is_train: False\n",
            "I0223 18:55:22.199939 140076675999616 tl_logging.py:99] Conv2d conv2d_14: n_filter: 512 filter_size: (1, 1) strides: (1, 1) pad: SAME act: No Activation\n",
            "I0223 18:55:22.224894 140076675999616 tl_logging.py:99] BatchNorm batchnorm2d_12: decay: 0.900000 epsilon: 0.000010 act: No Activation is_train: False\n",
            "I0223 18:55:22.255311 140076675999616 tl_logging.py:99] Conv2d conv2d_15: n_filter: 128 filter_size: (1, 1) strides: (1, 1) pad: SAME act: No Activation\n",
            "I0223 18:55:22.282687 140076675999616 tl_logging.py:99] BatchNorm batchnorm2d_13: decay: 0.900000 epsilon: 0.000010 act: <lambda> is_train: False\n",
            "I0223 18:55:22.318597 140076675999616 tl_logging.py:99] Conv2d conv2d_16: n_filter: 128 filter_size: (3, 3) strides: (1, 1) pad: SAME act: No Activation\n",
            "I0223 18:55:22.379317 140076675999616 tl_logging.py:99] BatchNorm batchnorm2d_14: decay: 0.900000 epsilon: 0.000010 act: <lambda> is_train: False\n",
            "I0223 18:55:22.416247 140076675999616 tl_logging.py:99] Conv2d conv2d_17: n_filter: 512 filter_size: (3, 3) strides: (1, 1) pad: SAME act: No Activation\n",
            "I0223 18:55:22.461848 140076675999616 tl_logging.py:99] BatchNorm batchnorm2d_15: decay: 0.900000 epsilon: 0.000010 act: No Activation is_train: False\n",
            "I0223 18:55:22.493333 140076675999616 tl_logging.py:99] Elementwise elementwise_3: fn: add act: <lambda>\n",
            "I0223 18:55:22.516699 140076675999616 tl_logging.py:99] Flatten flatten_1:\n",
            "I0223 18:55:22.540366 140076675999616 tl_logging.py:99] Dense  dense_1: 1 No Activation\n",
            "I0223 18:55:22.545762 140076675999616 tl_logging.py:99] Input  _inputlayer_4: [None, 224, 224, 3]\n",
            "I0223 18:55:22.550405 140076675999616 tl_logging.py:99] Lambda  scale: func: <function VGG_static.<locals>.<lambda> at 0x7f656e2beb70>, len_weights: 0\n",
            "I0223 18:55:22.555855 140076675999616 tl_logging.py:99] Conv2d conv1_1: n_filter: 64 filter_size: (3, 3) strides: (1, 1) pad: SAME act: relu\n",
            "I0223 18:55:22.560888 140076675999616 tl_logging.py:99] Conv2d conv1_2: n_filter: 64 filter_size: (3, 3) strides: (1, 1) pad: SAME act: relu\n",
            "I0223 18:55:22.563714 140076675999616 tl_logging.py:99] MaxPool2d pool1: filter_size: (2, 2) strides: (2, 2) padding: SAME\n",
            "I0223 18:55:22.568495 140076675999616 tl_logging.py:99] Conv2d conv2_1: n_filter: 128 filter_size: (3, 3) strides: (1, 1) pad: SAME act: relu\n",
            "I0223 18:55:22.573649 140076675999616 tl_logging.py:99] Conv2d conv2_2: n_filter: 128 filter_size: (3, 3) strides: (1, 1) pad: SAME act: relu\n",
            "I0223 18:55:22.576061 140076675999616 tl_logging.py:99] MaxPool2d pool2: filter_size: (2, 2) strides: (2, 2) padding: SAME\n",
            "I0223 18:55:22.580484 140076675999616 tl_logging.py:99] Conv2d conv3_1: n_filter: 256 filter_size: (3, 3) strides: (1, 1) pad: SAME act: relu\n",
            "I0223 18:55:22.585640 140076675999616 tl_logging.py:99] Conv2d conv3_2: n_filter: 256 filter_size: (3, 3) strides: (1, 1) pad: SAME act: relu\n",
            "I0223 18:55:22.590267 140076675999616 tl_logging.py:99] Conv2d conv3_3: n_filter: 256 filter_size: (3, 3) strides: (1, 1) pad: SAME act: relu\n",
            "I0223 18:55:22.595198 140076675999616 tl_logging.py:99] Conv2d conv3_4: n_filter: 256 filter_size: (3, 3) strides: (1, 1) pad: SAME act: relu\n",
            "I0223 18:55:22.597598 140076675999616 tl_logging.py:99] MaxPool2d pool3: filter_size: (2, 2) strides: (2, 2) padding: SAME\n",
            "I0223 18:55:22.602581 140076675999616 tl_logging.py:99] Conv2d conv4_1: n_filter: 512 filter_size: (3, 3) strides: (1, 1) pad: SAME act: relu\n",
            "I0223 18:55:22.608424 140076675999616 tl_logging.py:99] Conv2d conv4_2: n_filter: 512 filter_size: (3, 3) strides: (1, 1) pad: SAME act: relu\n",
            "I0223 18:55:22.613868 140076675999616 tl_logging.py:99] Conv2d conv4_3: n_filter: 512 filter_size: (3, 3) strides: (1, 1) pad: SAME act: relu\n",
            "I0223 18:55:22.619739 140076675999616 tl_logging.py:99] Conv2d conv4_4: n_filter: 512 filter_size: (3, 3) strides: (1, 1) pad: SAME act: relu\n",
            "I0223 18:55:22.622084 140076675999616 tl_logging.py:99] MaxPool2d pool4: filter_size: (2, 2) strides: (2, 2) padding: SAME\n",
            "I0223 18:55:22.624268 140076675999616 tl_logging.py:99] LayerList layerlist_1 including layers [conv1_1, conv1_2, pool1, conv2_1, conv2_2, pool2, conv3_1, conv3_2, conv3_3, conv3_4, pool3, conv4_1, conv4_2, conv4_3, conv4_4, pool4]\n",
            "I0223 18:55:23.153192 140076675999616 tl_logging.py:99] Restore pre-trained weights\n",
            "I0223 18:55:24.548409 140076675999616 tl_logging.py:99]   Loading (3, 3, 3, 64) in conv1_1\n",
            "I0223 18:55:24.548683 140076675999616 tl_logging.py:99]   Loading (64,) in conv1_1\n",
            "I0223 18:55:24.548795 140076675999616 tl_logging.py:99]   Loading (3, 3, 64, 64) in conv1_2\n",
            "I0223 18:55:24.548863 140076675999616 tl_logging.py:99]   Loading (64,) in conv1_2\n",
            "I0223 18:55:24.548923 140076675999616 tl_logging.py:99]   Loading (3, 3, 64, 128) in conv2_1\n",
            "I0223 18:55:24.548988 140076675999616 tl_logging.py:99]   Loading (128,) in conv2_1\n",
            "I0223 18:55:24.549065 140076675999616 tl_logging.py:99]   Loading (3, 3, 128, 128) in conv2_2\n",
            "I0223 18:55:24.549168 140076675999616 tl_logging.py:99]   Loading (128,) in conv2_2\n",
            "I0223 18:55:24.549225 140076675999616 tl_logging.py:99]   Loading (3, 3, 128, 256) in conv3_1\n",
            "I0223 18:55:24.549303 140076675999616 tl_logging.py:99]   Loading (256,) in conv3_1\n",
            "I0223 18:55:24.549373 140076675999616 tl_logging.py:99]   Loading (3, 3, 256, 256) in conv3_2\n",
            "I0223 18:55:24.549489 140076675999616 tl_logging.py:99]   Loading (256,) in conv3_2\n",
            "I0223 18:55:24.549564 140076675999616 tl_logging.py:99]   Loading (3, 3, 256, 256) in conv3_3\n",
            "I0223 18:55:24.549618 140076675999616 tl_logging.py:99]   Loading (256,) in conv3_3\n",
            "I0223 18:55:24.549672 140076675999616 tl_logging.py:99]   Loading (3, 3, 256, 256) in conv3_4\n",
            "I0223 18:55:24.549723 140076675999616 tl_logging.py:99]   Loading (256,) in conv3_4\n",
            "I0223 18:55:24.549777 140076675999616 tl_logging.py:99]   Loading (3, 3, 256, 512) in conv4_1\n",
            "I0223 18:55:24.549828 140076675999616 tl_logging.py:99]   Loading (512,) in conv4_1\n",
            "I0223 18:55:24.549882 140076675999616 tl_logging.py:99]   Loading (3, 3, 512, 512) in conv4_2\n",
            "I0223 18:55:24.549934 140076675999616 tl_logging.py:99]   Loading (512,) in conv4_2\n",
            "I0223 18:55:24.549995 140076675999616 tl_logging.py:99]   Loading (3, 3, 512, 512) in conv4_3\n",
            "I0223 18:55:24.550050 140076675999616 tl_logging.py:99]   Loading (512,) in conv4_3\n",
            "I0223 18:55:24.550103 140076675999616 tl_logging.py:99]   Loading (3, 3, 512, 512) in conv4_4\n",
            "I0223 18:55:24.550154 140076675999616 tl_logging.py:99]   Loading (512,) in conv4_4\n",
            "I0223 18:55:24.619181 140076675999616 tl_logging.py:99] [*] Load Checkpoints_MIFFGAN/MIFFGAN_6_EPID_107.h5 SUCCESS!\n",
            "I0223 18:55:25.000424 140076675999616 tl_logging.py:99] [*] Load Checkpoints_MIFFGAN/MIFFDIS_2_GAN_6_EPID_107.h5 SUCCESS!\n",
            "##\tadversarial learning (G, D)\n",
            "2020-02-23 18:55:33.481206: W tensorflow/core/common_runtime/bfc_allocator.cc:243] Allocator (GPU_0_bfc) ran out of memory trying to allocate 2.19GiB with freed_by_count=0. The caller indicates that this is not a failure, but may mean that there could be performance gains if more memory were available.\n",
            "2020-02-23 18:55:35.627350: W tensorflow/core/common_runtime/bfc_allocator.cc:243] Allocator (GPU_0_bfc) ran out of memory trying to allocate 3.39GiB with freed_by_count=0. The caller indicates that this is not a failure, but may mean that there could be performance gains if more memory were available.\n",
            "2020-02-23 18:55:36.436670: W tensorflow/core/common_runtime/bfc_allocator.cc:243] Allocator (GPU_0_bfc) ran out of memory trying to allocate 1.71GiB with freed_by_count=0. The caller indicates that this is not a failure, but may mean that there could be performance gains if more memory were available.\n",
            "2020-02-23 18:55:37.728103: W tensorflow/core/common_runtime/bfc_allocator.cc:243] Allocator (GPU_0_bfc) ran out of memory trying to allocate 3.39GiB with freed_by_count=0. The caller indicates that this is not a failure, but may mean that there could be performance gains if more memory were available.\n",
            "2020-02-23 18:55:38.540070: W tensorflow/core/common_runtime/bfc_allocator.cc:243] Allocator (GPU_0_bfc) ran out of memory trying to allocate 1.71GiB with freed_by_count=0. The caller indicates that this is not a failure, but may mean that there could be performance gains if more memory were available.\n",
            "Epoch: [108/109] step: [1/1] time: 15.529s, g_loss(mse:370.698730, vgg:256.470306, adv:0.010967) d_loss: 0.000245\n",
            " ** new learning rate: 0.000000 (for GAN)\n",
            "I0223 18:55:40.865161 140076675999616 tl_logging.py:99] [*] Saving TL weights into Checkpoints_MIFFGAN/MIFFGAN_6_EPID_108.h5\n",
            "I0223 18:55:41.314789 140076675999616 tl_logging.py:99] [*] Saved\n",
            "I0223 18:55:41.315193 140076675999616 tl_logging.py:99] [*] Saving TL weights into Checkpoints_MIFFGAN/MIFFDIS_2_GAN_6_EPID_108.h5\n",
            "I0223 18:55:42.587624 140076675999616 tl_logging.py:99] [*] Saved\n",
            "Save time: Sun Feb 23 18:55:42 2020\n",
            "W0223 18:55:42.681193 140076675999616 util.py:42] Lossy conversion from float32 to uint8. Range [-8.286139488220215, 255.0]. Convert image to uint8 prior to saving to suppress this warning.\n",
            "W0223 18:55:42.744877 140076675999616 util.py:42] Lossy conversion from float32 to uint8. Range [0.546875, 255.0]. Convert image to uint8 prior to saving to suppress this warning.\n",
            "W0223 18:55:42.756118 140076675999616 util.py:42] Lossy conversion from float32 to uint8. Range [0.0, 251.0]. Convert image to uint8 prior to saving to suppress this warning.\n",
            "W0223 18:55:42.770800 140076675999616 util.py:42] Lossy conversion from float32 to uint8. Range [-8.286139488220215, 220.91009521484375]. Convert image to uint8 prior to saving to suppress this warning.\n",
            "W0223 18:55:42.820059 140076675999616 util.py:42] Lossy conversion from float32 to uint8. Range [1.0, 255.0]. Convert image to uint8 prior to saving to suppress this warning.\n",
            "W0223 18:55:43.131593 140076675999616 util.py:42] Lossy conversion from float32 to uint8. Range [5.59375, 255.0]. Convert image to uint8 prior to saving to suppress this warning.\n",
            "W0223 18:55:43.144433 140076675999616 util.py:42] Lossy conversion from float32 to uint8. Range [4.0, 245.0]. Convert image to uint8 prior to saving to suppress this warning.\n",
            "W0223 18:55:43.154910 140076675999616 util.py:42] Lossy conversion from float32 to uint8. Range [1.5662672519683838, 239.111572265625]. Convert image to uint8 prior to saving to suppress this warning.\n",
            "W0223 18:55:43.185986 140076675999616 util.py:42] Lossy conversion from float32 to uint8. Range [2.0, 255.0]. Convert image to uint8 prior to saving to suppress this warning.\n",
            "W0223 18:55:43.217642 140076675999616 util.py:42] Lossy conversion from float32 to uint8. Range [21.328125, 255.0]. Convert image to uint8 prior to saving to suppress this warning.\n",
            "W0223 18:55:43.228294 140076675999616 util.py:42] Lossy conversion from float32 to uint8. Range [2.0, 241.0]. Convert image to uint8 prior to saving to suppress this warning.\n",
            "W0223 18:55:43.239629 140076675999616 util.py:42] Lossy conversion from float32 to uint8. Range [15.83125114440918, 238.07412719726562]. Convert image to uint8 prior to saving to suppress this warning.\n",
            "W0223 18:55:43.264898 140076675999616 util.py:42] Lossy conversion from float32 to uint8. Range [3.0, 255.0]. Convert image to uint8 prior to saving to suppress this warning.\n",
            "W0223 18:55:43.390958 140076675999616 util.py:42] Lossy conversion from float32 to uint8. Range [11.125, 255.0]. Convert image to uint8 prior to saving to suppress this warning.\n",
            "W0223 18:55:43.406945 140076675999616 util.py:42] Lossy conversion from float32 to uint8. Range [3.0, 239.0]. Convert image to uint8 prior to saving to suppress this warning.\n",
            "W0223 18:55:43.427274 140076675999616 util.py:42] Lossy conversion from float32 to uint8. Range [9.212892532348633, 241.07522583007812]. Convert image to uint8 prior to saving to suppress this warning.\n",
            "W0223 18:55:43.517776 140076675999616 util.py:42] Lossy conversion from float32 to uint8. Range [0.0, 255.0]. Convert image to uint8 prior to saving to suppress this warning.\n",
            "W0223 18:55:43.551473 140076675999616 util.py:42] Lossy conversion from float32 to uint8. Range [5.946429252624512, 255.0]. Convert image to uint8 prior to saving to suppress this warning.\n",
            "W0223 18:55:43.561544 140076675999616 util.py:42] Lossy conversion from float32 to uint8. Range [0.0, 250.0]. Convert image to uint8 prior to saving to suppress this warning.\n",
            "W0223 18:55:43.657213 140076675999616 util.py:42] Lossy conversion from float32 to uint8. Range [5.217795372009277, 244.64227294921875]. Convert image to uint8 prior to saving to suppress this warning.\n",
            "W0223 18:55:43.687704 140076675999616 util.py:42] Lossy conversion from float32 to uint8. Range [0.0, 255.24163818359375]. Convert image to uint8 prior to saving to suppress this warning.\n",
            "W0223 18:55:43.721945 140076675999616 util.py:42] Lossy conversion from float32 to uint8. Range [17.296875, 255.0]. Convert image to uint8 prior to saving to suppress this warning.\n",
            "W0223 18:55:43.731533 140076675999616 util.py:42] Lossy conversion from float32 to uint8. Range [0.0, 255.0]. Convert image to uint8 prior to saving to suppress this warning.\n",
            "W0223 18:55:43.741537 140076675999616 util.py:42] Lossy conversion from float32 to uint8. Range [12.602323532104492, 255.24163818359375]. Convert image to uint8 prior to saving to suppress this warning.\n",
            "W0223 18:55:43.766266 140076675999616 util.py:42] Lossy conversion from float32 to uint8. Range [0.0, 255.0]. Convert image to uint8 prior to saving to suppress this warning.\n",
            "W0223 18:55:43.828651 140076675999616 util.py:42] Lossy conversion from float32 to uint8. Range [3.953125, 255.0]. Convert image to uint8 prior to saving to suppress this warning.\n",
            "W0223 18:55:43.846798 140076675999616 util.py:42] Lossy conversion from float32 to uint8. Range [0.0, 251.0]. Convert image to uint8 prior to saving to suppress this warning.\n",
            "W0223 18:55:43.862559 140076675999616 util.py:42] Lossy conversion from float32 to uint8. Range [0.27483153343200684, 212.4524383544922]. Convert image to uint8 prior to saving to suppress this warning.\n",
            "W0223 18:55:43.903251 140076675999616 util.py:42] Lossy conversion from float32 to uint8. Range [0.0, 255.0]. Convert image to uint8 prior to saving to suppress this warning.\n",
            "W0223 18:55:43.939757 140076675999616 util.py:42] Lossy conversion from float32 to uint8. Range [5.71875, 255.0]. Convert image to uint8 prior to saving to suppress this warning.\n",
            "W0223 18:55:43.948347 140076675999616 util.py:42] Lossy conversion from float32 to uint8. Range [2.0, 245.0]. Convert image to uint8 prior to saving to suppress this warning.\n",
            "W0223 18:55:43.957269 140076675999616 util.py:42] Lossy conversion from float32 to uint8. Range [0.8359279632568359, 251.05557250976562]. Convert image to uint8 prior to saving to suppress this warning.\n",
            "Traceback (most recent call last):\n",
            "  File \"main.py\", line 32, in <module>\n",
            "    tf1.app.run()\n",
            "  File \"/usr/local/lib/python3.6/dist-packages/tensorflow_core/python/platform/app.py\", line 40, in run\n",
            "    _run(main=main, argv=argv, flags_parser=_parse_flags_tolerate_undef)\n",
            "  File \"/usr/local/lib/python3.6/dist-packages/absl/app.py\", line 299, in run\n",
            "    _run_main(main, args)\n",
            "  File \"/usr/local/lib/python3.6/dist-packages/absl/app.py\", line 250, in _run_main\n",
            "    sys.exit(main(argv))\n",
            "  File \"main.py\", line 30, in main\n",
            "    MIFF(CONFIG)\n",
            "  File \"/content/drive/My Drive/Project_Testing/miff.py\", line 21, in __init__\n",
            "    self.train_GAN(CONFIG)\t ## MIFFGAN Training\n",
            "  File \"/content/drive/My Drive/Project_Testing/miff.py\", line 310, in train_GAN\n",
            "    bicubic_psnr, model_psnr = PSNR (hr_patchs, out_bicu, fake_patchs)\n",
            "  File \"/content/drive/My Drive/Project_Testing/utils.py\", line 57, in PSNR\n",
            "    hrimg_list = cast_uint8(hrimg_list)\n",
            "  File \"/content/drive/My Drive/Project_Testing/utils.py\", line 80, in cast_uint8\n",
            "    img = (img * 255).astype(np.uint8)\n",
            "AttributeError: 'tensorflow.python.framework.ops.EagerTensor' object has no attribute 'astype'\n"
          ],
          "name": "stdout"
        }
      ]
    },
    {
      "cell_type": "markdown",
      "metadata": {
        "id": "v0MIfBVk-WcD",
        "colab_type": "text"
      },
      "source": [
        "# **Validation: MIFFGAN**"
      ]
    },
    {
      "cell_type": "code",
      "metadata": {
        "id": "x58qYtMT-Wo1",
        "colab_type": "code",
        "colab": {}
      },
      "source": [
        "!python main.py --mode=2 --gan_train --gen_model=6 --model_epoch=107 --batch_size=8 --dir_val_in='Training'"
      ],
      "execution_count": null,
      "outputs": []
    },
    {
      "cell_type": "markdown",
      "metadata": {
        "id": "gNCvHRR1PG3n",
        "colab_type": "text"
      },
      "source": [
        "# **Evaluation: MIFFGAN**"
      ]
    },
    {
      "cell_type": "code",
      "metadata": {
        "id": "_qrzARImPL3_",
        "colab_type": "code",
        "colab": {}
      },
      "source": [
        "!python main.py --mode=3 --gan_train --gen_model=4 --model_epoch=80"
      ],
      "execution_count": null,
      "outputs": []
    },
    {
      "cell_type": "markdown",
      "metadata": {
        "id": "0Ld_rcw3dAY9",
        "colab_type": "text"
      },
      "source": [
        "# **.........................................................MIFF.............................................................**"
      ]
    },
    {
      "cell_type": "markdown",
      "metadata": {
        "id": "0AbTNoXf4Qsj",
        "colab_type": "text"
      },
      "source": [
        "# **Fresh Training : MIFF**"
      ]
    },
    {
      "cell_type": "code",
      "metadata": {
        "id": "2ReTHJRc4jhp",
        "colab_type": "code",
        "colab": {}
      },
      "source": [
        "!python main.py --mode=1 --gen_model=7 --total_epoch=10 --batch_size=25 --save_interval=10 --dir_train_in='Training_inputs'"
      ],
      "execution_count": null,
      "outputs": []
    },
    {
      "cell_type": "markdown",
      "metadata": {
        "id": "TovNMUw99idP",
        "colab_type": "text"
      },
      "source": [
        "# **Resume Training: MIFF**"
      ]
    },
    {
      "cell_type": "code",
      "metadata": {
        "id": "e2p24_-Q9isB",
        "colab_type": "code",
        "colab": {}
      },
      "source": [
        "!python main.py --mode=1 -load_weights --gen_model=6 --model_epoch=107 --total_epoch=2 --batch_size=8 --save_interval=2 --dir_train_in='Training'"
      ],
      "execution_count": null,
      "outputs": []
    },
    {
      "cell_type": "markdown",
      "metadata": {
        "id": "o1kV-C98ICBv",
        "colab_type": "text"
      },
      "source": [
        "# **Validation: MIFF**"
      ]
    },
    {
      "cell_type": "code",
      "metadata": {
        "id": "RpUD-GIXE3uV",
        "colab_type": "code",
        "colab": {}
      },
      "source": [
        "!python main.py --mode=2 --gen_model=4 --model_epoch=84 --batch_size=8 --dir_val_in='Training'"
      ],
      "execution_count": null,
      "outputs": []
    },
    {
      "cell_type": "markdown",
      "metadata": {
        "id": "dYZdwswnJAIq",
        "colab_type": "text"
      },
      "source": [
        "# **Evaluation: MIFF**"
      ]
    },
    {
      "cell_type": "code",
      "metadata": {
        "id": "voHgaGW8JPxD",
        "colab_type": "code",
        "colab": {}
      },
      "source": [
        "!python main.py --mode=3 --gen_model=2 --model_epoch=5"
      ],
      "execution_count": null,
      "outputs": []
    },
    {
      "cell_type": "markdown",
      "metadata": {
        "id": "UuVCM0-YddAq",
        "colab_type": "text"
      },
      "source": [
        "# **.........................................................UTILITIES.............................................................**"
      ]
    },
    {
      "cell_type": "markdown",
      "metadata": {
        "id": "lJGHWjomJET7",
        "colab_type": "text"
      },
      "source": [
        "# **Refresh Folder**"
      ]
    },
    {
      "cell_type": "code",
      "metadata": {
        "id": "y4YSnUTDJpl-",
        "colab_type": "code",
        "colab": {
          "base_uri": "https://localhost:8080/"
        },
        "outputId": "d3f8da31-0721-4707-8df3-3b03bae69918"
      },
      "source": [
        "!python utils.py refresh_folder '/content/drive/My Drive/Project_Testing/Training'"
      ],
      "execution_count": null,
      "outputs": [
        {
          "output_type": "stream",
          "text": [
            "2020-02-23 18:04:19.707615: W tensorflow/stream_executor/platform/default/dso_loader.cc:55] Could not load dynamic library 'libnvinfer.so.6'; dlerror: libnvinfer.so.6: cannot open shared object file: No such file or directory; LD_LIBRARY_PATH: /usr/lib64-nvidia\n",
            "2020-02-23 18:04:19.707780: W tensorflow/stream_executor/platform/default/dso_loader.cc:55] Could not load dynamic library 'libnvinfer_plugin.so.6'; dlerror: libnvinfer_plugin.so.6: cannot open shared object file: No such file or directory; LD_LIBRARY_PATH: /usr/lib64-nvidia\n",
            "2020-02-23 18:04:19.707805: W tensorflow/compiler/tf2tensorrt/utils/py_utils.cc:30] Cannot dlopen some TensorRT libraries. If you would like to use Nvidia GPU with TensorRT, please make sure the missing libraries mentioned above are installed properly.\n",
            "/content/drive/My Drive/Project_Testing/Training refreshed!\n"
          ],
          "name": "stdout"
        }
      ]
    },
    {
      "cell_type": "markdown",
      "metadata": {
        "id": "YSUB4gQxKAhI",
        "colab_type": "text"
      },
      "source": [
        "# **Remove File**"
      ]
    },
    {
      "cell_type": "code",
      "metadata": {
        "id": "61X7EOr0KEai",
        "colab_type": "code",
        "colab": {}
      },
      "source": [
        "!python utils.py remove_file <file_path>"
      ],
      "execution_count": null,
      "outputs": []
    },
    {
      "cell_type": "markdown",
      "metadata": {
        "id": "7dqI-YuAKPRi",
        "colab_type": "text"
      },
      "source": [
        "# **Copy Files**"
      ]
    },
    {
      "cell_type": "code",
      "metadata": {
        "id": "AeloysWlKe9k",
        "colab_type": "code",
        "colab": {
          "base_uri": "https://localhost:8080/"
        },
        "outputId": "91ff59f8-b15c-4b03-c114-457f4e7fd638"
      },
      "source": [
        "!python utils.py copy_images 'Training_GRAY256'\\ 'Training'\\ 1\\ 8"
      ],
      "execution_count": null,
      "outputs": [
        {
          "output_type": "stream",
          "text": [
            "2020-02-23 18:04:57.981530: W tensorflow/stream_executor/platform/default/dso_loader.cc:55] Could not load dynamic library 'libnvinfer.so.6'; dlerror: libnvinfer.so.6: cannot open shared object file: No such file or directory; LD_LIBRARY_PATH: /usr/lib64-nvidia\n",
            "2020-02-23 18:04:57.981765: W tensorflow/stream_executor/platform/default/dso_loader.cc:55] Could not load dynamic library 'libnvinfer_plugin.so.6'; dlerror: libnvinfer_plugin.so.6: cannot open shared object file: No such file or directory; LD_LIBRARY_PATH: /usr/lib64-nvidia\n",
            "2020-02-23 18:04:57.981807: W tensorflow/compiler/tf2tensorrt/utils/py_utils.cc:30] Cannot dlopen some TensorRT libraries. If you would like to use Nvidia GPU with TensorRT, please make sure the missing libraries mentioned above are installed properly.\n",
            "Copy successful!\n"
          ],
          "name": "stdout"
        }
      ]
    },
    {
      "cell_type": "markdown",
      "metadata": {
        "id": "rR_e6gSaZgpI",
        "colab_type": "text"
      },
      "source": [
        "# **New Model Check**"
      ]
    },
    {
      "cell_type": "code",
      "metadata": {
        "id": "JHdD3NzqKlWv",
        "colab_type": "code",
        "colab": {
          "base_uri": "https://localhost:8080/",
          "height": 367
        },
        "outputId": "3401359a-f3d1-4c81-ffc1-ae2705972f33"
      },
      "source": [
        "!python model_list.py G 7"
      ],
      "execution_count": null,
      "outputs": [
        {
          "output_type": "stream",
          "text": [
            "2020-02-19 11:13:33.606548: W tensorflow/stream_executor/platform/default/dso_loader.cc:55] Could not load dynamic library 'libnvinfer.so.6'; dlerror: libnvinfer.so.6: cannot open shared object file: No such file or directory; LD_LIBRARY_PATH: /usr/lib64-nvidia\n",
            "2020-02-19 11:13:33.606630: W tensorflow/stream_executor/platform/default/dso_loader.cc:55] Could not load dynamic library 'libnvinfer_plugin.so.6'; dlerror: libnvinfer_plugin.so.6: cannot open shared object file: No such file or directory; LD_LIBRARY_PATH: /usr/lib64-nvidia\n",
            "2020-02-19 11:13:33.606643: W tensorflow/compiler/tf2tensorrt/utils/py_utils.cc:30] Cannot dlopen some TensorRT libraries. If you would like to use Nvidia GPU with TensorRT, please make sure the missing libraries mentioned above are installed properly.\n",
            "2020-02-19 11:13:34.902299: W tensorflow/core/common_runtime/gpu/gpu_bfc_allocator.cc:39] Overriding allow_growth setting because the TF_FORCE_GPU_ALLOW_GROWTH environment variable is set. Original config value was 0.\n",
            "(1, 256, 256, 128) <class 'tensorflow.python.framework.ops.EagerTensor'> (1, 256, 256, 128) <class 'tensorflow.python.framework.tensor_shape.TensorShape'>\n",
            "(1, 256, 256, 128) <class 'tensorflow.python.framework.ops.EagerTensor'> (1, 256, 256, 128) <class 'tensorflow.python.framework.tensor_shape.TensorShape'>\n",
            "Traceback (most recent call last):\n",
            "  File \"model_list.py\", line 271, in <module>\n",
            "    print(eval('model_'+sys.argv[1]+sys.argv[2]+'()'),\"Model Building Successful!\")\n",
            "  File \"<string>\", line 1, in <module>\n",
            "  File \"model_list.py\", line 204, in model_G7\n",
            "    residual_block_2= Elementwise(combine_fn=tf1.add )([non_linearity_layer_4[0:4,:,:,:], merge_layer[0:4,:,:,:]])\n",
            "  File \"/usr/local/lib/python3.6/dist-packages/tensorlayer/layers/core.py\", line 245, in __call__\n",
            "    self._add_node(input_tensors, outputs)\n",
            "  File \"/usr/local/lib/python3.6/dist-packages/tensorlayer/layers/core.py\", line 271, in _add_node\n",
            "    in_nodes = [tensor._info[0] for tensor in inputs_list]\n",
            "  File \"/usr/local/lib/python3.6/dist-packages/tensorlayer/layers/core.py\", line 271, in <listcomp>\n",
            "    in_nodes = [tensor._info[0] for tensor in inputs_list]\n",
            "AttributeError: 'tensorflow.python.framework.ops.EagerTensor' object has no attribute '_info'\n"
          ],
          "name": "stdout"
        }
      ]
    },
    {
      "cell_type": "code",
      "metadata": {
        "id": "nyfEqS0zrrQj",
        "colab_type": "code",
        "colab": {
          "base_uri": "https://localhost:8080/",
          "height": 34
        },
        "outputId": "e5e805a6-efc2-4610-d340-bb35b8f85031"
      },
      "source": [
        "import numpy as np\n",
        "x=np.array([[[1,2],[4,1]],[[3,1],[4,3]],[[2,4],[1,2]]])\n",
        "np.amax(x)"
      ],
      "execution_count": null,
      "outputs": [
        {
          "output_type": "execute_result",
          "data": {
            "text/plain": [
              "4"
            ]
          },
          "metadata": {
            "tags": []
          },
          "execution_count": 44
        }
      ]
    },
    {
      "cell_type": "code",
      "metadata": {
        "id": "H3c4WbhIxWZT",
        "colab_type": "code",
        "colab": {
          "base_uri": "https://localhost:8080/",
          "height": 153
        },
        "outputId": "d8338432-d350-4da4-d5b7-dbbcebc35847"
      },
      "source": [
        "import numpy\n",
        "with open('models/stats_gen_5.npy', 'rb') as f:\n",
        "                stats=numpy.load(f)\n",
        "                print(stats)"
      ],
      "execution_count": null,
      "outputs": [
        {
          "output_type": "stream",
          "text": [
            "[[-2.33872414  0.46629441 21.        ]\n",
            " [ 0.43167686  0.44520438 22.        ]\n",
            " [ 1.63023949  0.48049825 23.        ]\n",
            " [ 0.11074638  0.42495245 24.        ]\n",
            " [ 1.78051376  0.45892635 25.        ]\n",
            " [ 0.11773491  0.31772846 26.        ]\n",
            " [ 2.13122749  0.41685754 27.        ]\n",
            " [-2.56907463  0.40616131 28.        ]]\n"
          ],
          "name": "stdout"
        }
      ]
    },
    {
      "cell_type": "code",
      "metadata": {
        "id": "NY5Pd_yOXYjN",
        "colab_type": "code",
        "colab": {
          "base_uri": "https://localhost:8080/",
          "height": 238
        },
        "outputId": "197e11f3-47b0-421e-d05b-5e1656510d60"
      },
      "source": [
        "import numpy as np\n",
        "x= np.random.random((3,3))\n",
        "print(\"Original Array:\")\n",
        "print(x)\n",
        "#xmax, xmin = x.max(), x.min()\n",
        "#x = (x - xmin)/(xmax - xmin)\n",
        "#print(\"After normalization:\")\n",
        "#print(x)\n",
        "print(x * 255) \n",
        "print((x * 255).round())\n",
        "x = (x * 255).round().astype(np.uint8)\n",
        "print(x)"
      ],
      "execution_count": null,
      "outputs": [
        {
          "output_type": "stream",
          "text": [
            "Original Array:\n",
            "[[0.81267766 0.07405017 0.88373317]\n",
            " [0.47183311 0.18863056 0.16513072]\n",
            " [0.01114131 0.75185364 0.30919395]]\n",
            "[[207.2328041   18.8827928  225.35195943]\n",
            " [120.31744232  48.10079381  42.10833267]\n",
            " [  2.84103293 191.72267793  78.84445634]]\n",
            "[[207.  19. 225.]\n",
            " [120.  48.  42.]\n",
            " [  3. 192.  79.]]\n",
            "[[207  19 225]\n",
            " [120  48  42]\n",
            " [  3 192  79]]\n"
          ],
          "name": "stdout"
        }
      ]
    },
    {
      "cell_type": "code",
      "metadata": {
        "id": "DOI1b95JXemd",
        "colab_type": "code",
        "colab": {
          "base_uri": "https://localhost:8080/",
          "height": 176
        },
        "outputId": "1fbe5f5f-f727-4691-f3b2-65e88910af61"
      },
      "source": [
        "!python utils.py get_validation_data 'Valid'"
      ],
      "execution_count": null,
      "outputs": [
        {
          "output_type": "stream",
          "text": [
            "2020-02-19 08:13:19.161860: W tensorflow/stream_executor/platform/default/dso_loader.cc:55] Could not load dynamic library 'libnvinfer.so.6'; dlerror: libnvinfer.so.6: cannot open shared object file: No such file or directory; LD_LIBRARY_PATH: /usr/lib64-nvidia\n",
            "2020-02-19 08:13:19.162018: W tensorflow/stream_executor/platform/default/dso_loader.cc:55] Could not load dynamic library 'libnvinfer_plugin.so.6'; dlerror: libnvinfer_plugin.so.6: cannot open shared object file: No such file or directory; LD_LIBRARY_PATH: /usr/lib64-nvidia\n",
            "2020-02-19 08:13:19.162039: W tensorflow/compiler/tf2tensorrt/utils/py_utils.cc:30] Cannot dlopen some TensorRT libraries. If you would like to use Nvidia GPU with TensorRT, please make sure the missing libraries mentioned above are installed properly.\n",
            "2020-02-19 08:13:20.334451: W tensorflow/core/common_runtime/gpu/gpu_bfc_allocator.cc:39] Overriding allow_growth setting because the TF_FORCE_GPU_ALLOW_GROWTH environment variable is set. Original config value was 0.\n",
            "[b'Validation/Test/243.png' b'Validation/Test/245.png'\n",
            " b'Validation/Test/249.png' b'Validation/Test/242.png'\n",
            " b'Validation/Test/241.png' b'Validation/Test/246.png'\n",
            " b'Validation/Test/250.png' b'Validation/Test/244.png'] (8,)\n"
          ],
          "name": "stdout"
        }
      ]
    },
    {
      "cell_type": "code",
      "metadata": {
        "colab_type": "code",
        "id": "1gbxe3T4hNJa",
        "colab": {
          "base_uri": "https://localhost:8080/",
          "height": 141
        },
        "outputId": "2bdaf12a-41f9-4abd-c261-882b3181ce67"
      },
      "source": [
        "!python utils.py get_validation_data 'Valid'"
      ],
      "execution_count": null,
      "outputs": [
        {
          "output_type": "stream",
          "text": [
            "2020-02-19 08:25:47.571258: W tensorflow/stream_executor/platform/default/dso_loader.cc:55] Could not load dynamic library 'libnvinfer.so.6'; dlerror: libnvinfer.so.6: cannot open shared object file: No such file or directory; LD_LIBRARY_PATH: /usr/lib64-nvidia\n",
            "2020-02-19 08:25:47.571351: W tensorflow/stream_executor/platform/default/dso_loader.cc:55] Could not load dynamic library 'libnvinfer_plugin.so.6'; dlerror: libnvinfer_plugin.so.6: cannot open shared object file: No such file or directory; LD_LIBRARY_PATH: /usr/lib64-nvidia\n",
            "2020-02-19 08:25:47.571366: W tensorflow/compiler/tf2tensorrt/utils/py_utils.cc:30] Cannot dlopen some TensorRT libraries. If you would like to use Nvidia GPU with TensorRT, please make sure the missing libraries mentioned above are installed properly.\n",
            "2020-02-19 08:25:48.687567: W tensorflow/core/common_runtime/gpu/gpu_bfc_allocator.cc:39] Overriding allow_growth setting because the TF_FORCE_GPU_ALLOW_GROWTH environment variable is set. Original config value was 0.\n",
            "0 (5, 128, 128, 1)\n",
            "1 (5, 128, 128, 1)\n"
          ],
          "name": "stdout"
        }
      ]
    },
    {
      "cell_type": "code",
      "metadata": {
        "id": "ZelheN6Jfzak",
        "colab_type": "code",
        "colab": {}
      },
      "source": [
        ""
      ],
      "execution_count": null,
      "outputs": []
    }
  ]
}